{
 "cells": [
  {
   "cell_type": "code",
   "execution_count": 6,
   "id": "d514a22e-b481-4828-992b-09a30187ef6d",
   "metadata": {},
   "outputs": [],
   "source": [
    "# Semana02\n",
    "# Benjamin Adriano Chipana Bandera"
   ]
  },
  {
   "cell_type": "code",
   "execution_count": 14,
   "id": "66a4daa9-ba84-42ef-916a-7a3ff4b71e5e",
   "metadata": {},
   "outputs": [
    {
     "name": "stdout",
     "output_type": "stream",
     "text": [
      "['ALALUNA', 'AVILA', 'CABANILLAS', 'CAMARGO']\n"
     ]
    }
   ],
   "source": [
    "# 1.1 Listas\n",
    "# Es una coleccion de elementos que puede ser ordenada\n",
    "# modificada, etc.\n",
    "# Se identifica por corchetes\n",
    "# Ejemplo:\n",
    "aula = ['ALALUNA','AVILA','CABANILLAS','CAMARGO']\n",
    "print(aula)"
   ]
  },
  {
   "cell_type": "code",
   "execution_count": 15,
   "id": "d4f1e63e-1a8f-4234-81c3-a06cc84fde7b",
   "metadata": {},
   "outputs": [
    {
     "data": {
      "text/plain": [
       "['ALALUNA', 'AVILA', 'CABANILLAS', 'CAMARGO']"
      ]
     },
     "execution_count": 15,
     "metadata": {},
     "output_type": "execute_result"
    }
   ],
   "source": [
    "aula"
   ]
  },
  {
   "cell_type": "code",
   "execution_count": 16,
   "id": "f0704b97-91ba-4fa0-a359-074d43574442",
   "metadata": {},
   "outputs": [
    {
     "name": "stdout",
     "output_type": "stream",
     "text": [
      "CABANILLAS\n",
      "ALALUNA\n"
     ]
    }
   ],
   "source": [
    "print(aula[2])\n",
    "print(aula[0])"
   ]
  },
  {
   "cell_type": "code",
   "execution_count": 17,
   "id": "3a6bb788-a245-4fdd-a3c7-bcaab60de37a",
   "metadata": {},
   "outputs": [
    {
     "data": {
      "text/plain": [
       "['ALALUNA', 'AVILA', 'CABANILLAS', 'CAMARGO', 'HERMINAÑO', 'GOMEZ']"
      ]
     },
     "execution_count": 17,
     "metadata": {},
     "output_type": "execute_result"
    }
   ],
   "source": [
    "aula.append('HERMINAÑO')\n",
    "aula.append('GOMEZ')\n",
    "aula"
   ]
  },
  {
   "cell_type": "code",
   "execution_count": 18,
   "id": "ec088f12-b268-414c-b1ec-1e75f2e6dd09",
   "metadata": {},
   "outputs": [
    {
     "name": "stdout",
     "output_type": "stream",
     "text": [
      "['AVILA', 'CABANILLAS', 'CAMARGO', 'HERMINAÑO']\n"
     ]
    }
   ],
   "source": [
    "aula.remove(aula[0])\n",
    "aula.remove('GOMEZ')\n",
    "print(aula)"
   ]
  },
  {
   "cell_type": "code",
   "execution_count": null,
   "id": "20a4469c-80b0-4d06-ac3c-836e481d94cf",
   "metadata": {},
   "outputs": [],
   "source": []
  }
 ],
 "metadata": {
  "kernelspec": {
   "display_name": "Python 3 (ipykernel)",
   "language": "python",
   "name": "python3"
  },
  "language_info": {
   "codemirror_mode": {
    "name": "ipython",
    "version": 3
   },
   "file_extension": ".py",
   "mimetype": "text/x-python",
   "name": "python",
   "nbconvert_exporter": "python",
   "pygments_lexer": "ipython3",
   "version": "3.12.7"
  }
 },
 "nbformat": 4,
 "nbformat_minor": 5
}
